{
 "cells": [
  {
   "cell_type": "code",
   "execution_count": 2,
   "metadata": {},
   "outputs": [],
   "source": [
    "import grid2op\n",
    "\n",
    "TRACK2_DATASET = \"l2rpn_neurips_2020_track2_small\"\n",
    "TRACK2_TEST_FLAG = False\n",
    "multimix_env = grid2op.make(TRACK2_DATASET, test=TRACK2_TEST_FLAG)"
   ]
  },
  {
   "cell_type": "code",
   "execution_count": 4,
   "metadata": {},
   "outputs": [
    {
     "data": {
      "text/plain": [
       "array([  3,   3,   7,   9,  10,  10,  11,  14,  14,  14,  17,  18,  24,\n",
       "        25,  26,  26,  33,  39,  41,  41,  45,  48,  48,  48,  48,  53,\n",
       "        54,  55,  55,  55,  58,  59,  60,  61,  61,  64,  65,  68,  69,\n",
       "        69,  75,  76,  76,  79,  79,  82,  84,  86,  88,  89,  89,  91,\n",
       "        99,  99,  99, 103, 104, 106, 110, 111, 112, 115], dtype=int32)"
      ]
     },
     "execution_count": 4,
     "metadata": {},
     "output_type": "execute_result"
    }
   ],
   "source": [
    "multimix_env.gen_to_subid"
   ]
  },
  {
   "cell_type": "code",
   "execution_count": null,
   "metadata": {},
   "outputs": [],
   "source": []
  }
 ],
 "metadata": {
  "kernelspec": {
   "display_name": "Python 3",
   "language": "python",
   "name": "python3"
  },
  "language_info": {
   "codemirror_mode": {
    "name": "ipython",
    "version": 3
   },
   "file_extension": ".py",
   "mimetype": "text/x-python",
   "name": "python",
   "nbconvert_exporter": "python",
   "pygments_lexer": "ipython3",
   "version": "3.7.7"
  }
 },
 "nbformat": 4,
 "nbformat_minor": 4
}
