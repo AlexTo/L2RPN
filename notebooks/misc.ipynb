{
 "cells": [
  {
   "cell_type": "code",
   "execution_count": 2,
   "metadata": {},
   "outputs": [],
   "source": [
    "import grid2op\n",
    "import numpy as np\n",
    "import torch"
   ]
  },
  {
   "cell_type": "code",
   "execution_count": 3,
   "metadata": {},
   "outputs": [],
   "source": [
    "multimix_env = grid2op.make(\"l2rpn_neurips_2020_track2_small\")\n",
    "list(multimix_env.keys())\n",
    "env = multimix_env['l2rpn_neurips_2020_track2_x1']\n",
    "action_space = env.action_space\n",
    "do_nothing = action_space({})"
   ]
  },
  {
   "cell_type": "markdown",
   "metadata": {},
   "source": [
    "Run the grid by do nothing and see what happens"
   ]
  },
  {
   "cell_type": "code",
   "execution_count": null,
   "metadata": {},
   "outputs": [
    {
     "name": "stdout",
     "output_type": "stream",
     "text": [
      "Current chronic Scenario_april_08\n"
     ]
    }
   ],
   "source": [
    "env.set_id(0)\n",
    "env.reset()\n",
    "print(f\"Current chronic {env.chronics_handler.get_name()}\")\n",
    "done = False\n",
    "survived_steps = 0\n",
    "while not done:\n",
    "    obs, reward, done, info = env.step(do_nothing)\n",
    "    survived_steps += 1\n",
    "print(f\"Survived_steps {survived_steps}\")"
   ]
  },
  {
   "cell_type": "code",
   "execution_count": 20,
   "metadata": {},
   "outputs": [
    {
     "data": {
      "text/plain": [
       "array([0.34059405, 0.44787708, 0.0623959 , 0.11737067, 0.12504101,\n",
       "       0.101998  , 0.66128534, 0.35430405, 0.3119818 , 0.13056287,\n",
       "       0.35541072, 0.36274418, 0.03296847, 0.3384281 , 0.234256  ,\n",
       "       0.3366061 , 0.24572977, 0.23054852, 0.22851962, 0.29963097,\n",
       "       0.0748703 , 0.35310653, 0.10269568, 0.06122492, 0.34517983,\n",
       "       0.150857  , 0.46440738, 0.21810201, 0.08209391, 0.3629753 ,\n",
       "       0.38827163, 0.38824052, 0.46646407, 0.47777015, 0.47690383,\n",
       "       0.5058358 , 0.4683566 , 0.82967794, 0.40396783, 0.5684806 ,\n",
       "       0.4506826 , 0.20423055, 0.1756322 , 0.6901463 , 0.11277854,\n",
       "       0.13960436, 0.38921982, 0.22753567, 0.05417828, 0.4005468 ,\n",
       "       0.1585089 , 0.13680701, 0.30724207, 0.23957412, 0.25778452,\n",
       "       0.24820296, 0.20505276, 0.36463746, 0.13255198, 0.36133298,\n",
       "       0.50251293, 0.40321523, 0.1597535 , 0.13102937, 0.52104056,\n",
       "       0.37013572, 0.4576379 , 0.27828655, 0.        , 0.45737985,\n",
       "       0.2359842 , 0.4684072 , 0.3542481 , 0.34410256, 0.7638236 ,\n",
       "       0.35490033, 0.23290887, 0.37623933, 0.2225389 , 0.3241777 ,\n",
       "       0.29333997, 0.30009726, 0.3090187 , 0.52256244, 0.5545751 ,\n",
       "       0.5728047 , 0.36990845, 0.50275004, 0.10315742, 0.24024604,\n",
       "       0.15626293, 0.3380415 , 0.4166346 , 0.458754  , 0.14152795,\n",
       "       0.49446696, 0.45477843, 0.51152325, 0.3931592 , 0.35583636,\n",
       "       0.5763292 , 0.5990685 , 0.27143285, 0.19442566, 0.41326347,\n",
       "       0.40514278, 0.5391651 , 0.48736295, 0.02548754, 0.11151435,\n",
       "       0.        , 0.36945158, 0.19744857, 0.3783403 , 0.5857874 ,\n",
       "       0.10107235, 0.05005032, 0.4030503 , 0.5131193 , 0.10873369,\n",
       "       0.29736906, 0.        , 0.34693727, 0.26313108, 0.23172022,\n",
       "       0.        , 0.28735727, 0.40713328, 0.26756924, 0.47154838,\n",
       "       0.12263745, 0.33633423, 0.33633423, 0.61221975, 0.3583956 ,\n",
       "       0.70389414, 0.6902982 , 0.3868107 , 0.4052802 , 0.26478383,\n",
       "       0.01545565, 0.40151203, 0.40262717, 0.14046608, 0.03058795,\n",
       "       0.21207936, 0.65550685, 0.69171524, 0.6159577 , 0.6782457 ,\n",
       "       0.37391102, 0.63330895, 0.37373465, 0.37324753, 0.7042818 ,\n",
       "       0.3893976 , 0.6900049 , 0.39632088, 0.25612742, 0.07060271,\n",
       "       0.5133511 , 0.39456484, 0.        , 0.50414324, 0.32556662,\n",
       "       0.32556662, 0.3826203 , 0.3411514 , 0.41486427, 0.2945281 ,\n",
       "       0.26584426, 0.15148526, 0.11311176, 0.45814094, 0.65399665,\n",
       "       0.23025425, 0.4091291 , 0.55179745, 0.6407956 , 0.68363804,\n",
       "       0.5133511 , 0.50537854, 0.66206884, 0.05310101, 0.5647497 ,\n",
       "       0.23025425], dtype=float32)"
      ]
     },
     "execution_count": 20,
     "metadata": {},
     "output_type": "execute_result"
    }
   ],
   "source": [
    "obs = env.current_obs\n",
    "obs.rho"
   ]
  },
  {
   "cell_type": "code",
   "execution_count": 92,
   "metadata": {},
   "outputs": [],
   "source": [
    "change_line = action_space.get_change_line_status_vect()\n",
    "set_line = action_space.get_set_line_status_vect()"
   ]
  },
  {
   "cell_type": "code",
   "execution_count": 93,
   "metadata": {},
   "outputs": [],
   "source": [
    "change_line[0] = True\n",
    "change_line[1] = True\n",
    "set_line[2] = 1"
   ]
  },
  {
   "cell_type": "code",
   "execution_count": 94,
   "metadata": {},
   "outputs": [],
   "source": [
    "act = action_space({\"change_line_status\": change_line,\n",
    "                    \"set_line_status\": set_line,\n",
    "                    \"set_bus\": {\"lines_ex_id\": [(18,2)], \"generators_id\": [(3,2), (4,2)]},\n",
    "                    \"redispatch\": [(0,+10)]})"
   ]
  },
  {
   "cell_type": "code",
   "execution_count": 95,
   "metadata": {},
   "outputs": [
    {
     "name": "stdout",
     "output_type": "stream",
     "text": [
      "This action will:\n",
      "\t - NOT change anything to the injections\n",
      "\t - Redispatch gen_3_0 of 10.0\n",
      "\t - force reconnection of 1 powerlines ([2])\n",
      "\t - switch status of 2 powerlines ([0 1])\n",
      "\t - NOT switch anything in the topology\n",
      "\t - Set the bus of the following element:\n",
      "\t \t - assign bus 2 to generator 3 [on substation 9]\n",
      "\t \t - assign bus 2 to generator 4 [on substation 10]\n",
      "\t \t - assign bus 2 to line (extremity) 18 [on substation 79]\n"
     ]
    }
   ],
   "source": [
    "print(act)"
   ]
  },
  {
   "cell_type": "code",
   "execution_count": 99,
   "metadata": {},
   "outputs": [
    {
     "data": {
      "text/plain": [
       "256"
      ]
     },
     "execution_count": 99,
     "metadata": {},
     "output_type": "execute_result"
    }
   ],
   "source": [
    "len(IdToAct.get_all_unitary_redispatch(action_space))"
   ]
  },
  {
   "cell_type": "code",
   "execution_count": 43,
   "metadata": {},
   "outputs": [
    {
     "data": {
      "text/plain": [
       "533"
      ]
     },
     "execution_count": 43,
     "metadata": {},
     "output_type": "execute_result"
    }
   ],
   "source": [
    "env.n_gen + env.n_load + env.n_line * 2"
   ]
  },
  {
   "cell_type": "code",
   "execution_count": 33,
   "metadata": {},
   "outputs": [
    {
     "data": {
      "text/plain": [
       "1500"
      ]
     },
     "execution_count": 33,
     "metadata": {},
     "output_type": "execute_result"
    }
   ],
   "source": [
    "env.n_line * 2 + 533 * 2 + env.n_gen"
   ]
  },
  {
   "cell_type": "code",
   "execution_count": 54,
   "metadata": {},
   "outputs": [],
   "source": [
    "act_dict = act.impact_on_objects()"
   ]
  },
  {
   "cell_type": "code",
   "execution_count": 55,
   "metadata": {},
   "outputs": [
    {
     "data": {
      "text/plain": [
       "{'has_impact': True,\n",
       " 'injection': {'changed': False, 'count': 0, 'impacted': []},\n",
       " 'force_line': {'changed': True,\n",
       "  'reconnections': {'count': 1, 'powerlines': array([2])},\n",
       "  'disconnections': {'count': 0, 'powerlines': []}},\n",
       " 'switch_line': {'changed': True, 'count': 2, 'powerlines': array([0, 1])},\n",
       " 'topology': {'changed': True,\n",
       "  'bus_switch': [],\n",
       "  'assigned_bus': [{'bus': 2,\n",
       "    'object_type': 'generator',\n",
       "    'object_id': 3,\n",
       "    'substation': 9},\n",
       "   {'bus': 2, 'object_type': 'generator', 'object_id': 4, 'substation': 10},\n",
       "   {'bus': 2,\n",
       "    'object_type': 'line (extremity)',\n",
       "    'object_id': 18,\n",
       "    'substation': 79}],\n",
       "  'disconnect_bus': []},\n",
       " 'redispatch': {'changed': False, 'generators': []}}"
      ]
     },
     "execution_count": 55,
     "metadata": {},
     "output_type": "execute_result"
    }
   ],
   "source": [
    "act_dict"
   ]
  },
  {
   "cell_type": "code",
   "execution_count": 83,
   "metadata": {},
   "outputs": [
    {
     "data": {
      "text/plain": [
       "{9, 10, 79}"
      ]
     },
     "execution_count": 83,
     "metadata": {},
     "output_type": "execute_result"
    }
   ],
   "source": [
    "{s['substation'] for s in act_dict[\"topology\"][\"assigned_bus\"]}"
   ]
  },
  {
   "cell_type": "code",
   "execution_count": 57,
   "metadata": {},
   "outputs": [
    {
     "data": {
      "text/plain": [
       "3"
      ]
     },
     "execution_count": 57,
     "metadata": {},
     "output_type": "execute_result"
    }
   ],
   "source": [
    "len(act_dict[\"topology\"][\"assigned_bus\"])"
   ]
  },
  {
   "cell_type": "code",
   "execution_count": 58,
   "metadata": {},
   "outputs": [
    {
     "data": {
      "text/plain": [
       "0"
      ]
     },
     "execution_count": 58,
     "metadata": {},
     "output_type": "execute_result"
    }
   ],
   "source": [
    "len(act_dict[\"topology\"][\"disconnect_bus\"])"
   ]
  },
  {
   "cell_type": "code",
   "execution_count": 59,
   "metadata": {},
   "outputs": [
    {
     "data": {
      "text/plain": [
       "0"
      ]
     },
     "execution_count": 59,
     "metadata": {},
     "output_type": "execute_result"
    }
   ],
   "source": [
    "len(act_dict[\"redispatch\"][\"generators\"])"
   ]
  },
  {
   "cell_type": "code",
   "execution_count": 66,
   "metadata": {},
   "outputs": [
    {
     "data": {
      "text/plain": [
       "array([  0,   1,   2,   3,   5,   6,   7,  10,  11,  12,  13,  14,  15,\n",
       "        16,  17,  18,  19,  20,  21,  22,  23,  26,  27,  28,  30,  31,\n",
       "        32,  33,  34,  35,  38,  39,  40,  41,  42,  43,  44,  45,  46,\n",
       "        47,  48,  49,  50,  51,  52,  53,  54,  55,  56,  57,  58,  59,\n",
       "        61,  65,  66,  69,  71,  72,  73,  74,  75,  76,  77,  78,  79,\n",
       "        81,  82,  83,  84,  85,  87,  89,  90,  91,  92,  93,  94,  95,\n",
       "        96,  97,  98,  99, 100, 101, 102, 103, 104, 105, 106, 107, 108,\n",
       "       109, 111, 112, 113, 114, 115, 116, 117], dtype=int32)"
      ]
     },
     "execution_count": 66,
     "metadata": {},
     "output_type": "execute_result"
    }
   ],
   "source": [
    "env.load_to_subid"
   ]
  },
  {
   "cell_type": "code",
   "execution_count": 69,
   "metadata": {},
   "outputs": [
    {
     "data": {
      "text/plain": [
       "array([  1,   2,  11,  70,  71,  71,  72,  73,  74,  74,  74,  76,  76,\n",
       "        11,  76,  77,  78,  79,  79,  79,  81,  82,  83,  84,  11,  84,\n",
       "        85,  87,  88,  88,  89,  89,  90,  91,  91,  11,  91,  92,  93,\n",
       "        93,  94,  95,  95,  95,  96,  97,  12,  98,  99,  99,  95,  96,\n",
       "        99,  99, 100, 101, 101,  13, 102, 103, 103, 104, 105, 104, 105,\n",
       "       106, 107, 106,  14, 108, 109, 109, 110, 111, 112, 112, 113, 114,\n",
       "       114,  14, 116, 117, 117,  15,  16,   4,  16,  17,  18,  19,  18,\n",
       "        20,  21,  22,  23,  24,   4,  26,  27,  28,  29,  29,  30,  30,\n",
       "        31,  31,  31,   5,  32,  33,  35,  36,  36,  35,  36,  38,  39,\n",
       "        37,   6,  39,  40,  41,  41,  43,  42,  44,  45,  46,  47,   8,\n",
       "        48,  48,  48,  48,  48,  49,  50,  51,  52,  53,   9,  53,  53,\n",
       "        54,  55,  55,  56,  56,  57,  57,  58,  10,  58,  58,  58,  59,\n",
       "        60,  60,  61,  61,  63,  64,  10,  64,  65,  65,  65,  66,  66,\n",
       "        68,  68,  69,  69,   4,  24,  79,  85,  67,  16,  36,  58,  60,\n",
       "        65,  67,  68,  67], dtype=int32)"
      ]
     },
     "execution_count": 69,
     "metadata": {},
     "output_type": "execute_result"
    }
   ],
   "source": [
    "env.line_ex_to_subid"
   ]
  },
  {
   "cell_type": "code",
   "execution_count": 70,
   "metadata": {},
   "outputs": [
    {
     "data": {
      "text/plain": [
       "array([  0,   0,  10,  69,  23,  70,  70,  69,  69,  68,  73,  75,  68,\n",
       "         1,  74,  76,  77,  76,  76,  78,  76,  81,  82,  82,   2,  83,\n",
       "        84,  84,  84,  87,  88,  88,  89,  88,  88,   6,  90,  91,  91,\n",
       "        92,  93,  79,  81,  93,  79,  79,  10,  79,  91,  93,  94,  95,\n",
       "        97,  98,  99,  91, 100,  11,  99,  99, 102, 102,  99, 103, 104,\n",
       "       104, 104, 105,  12, 107, 102, 108, 109, 109,  16,  31,  31,  26,\n",
       "       113,  13,  11,  74,  75,  11,  14,   3,  15,  16,  17,  18,  14,\n",
       "        19,  20,  21,  22,  22,   2,  24,  26,  27,   7,  25,  16,  28,\n",
       "        22,  30,  26,   4,  14,  18,  34,  34,  32,  33,  33,  36,  36,\n",
       "        29,   5,  38,  39,  39,  40,  42,  33,  43,  44,  45,  45,   7,\n",
       "        46,  41,  41,  44,  47,  48,  48,  50,  51,  52,   8,  48,  48,\n",
       "        53,  53,  54,  55,  49,  55,  50,  53,   3,  55,  55,  54,  58,\n",
       "        58,  59,  59,  60,  62,  37,   4,  63,  48,  48,  61,  61,  65,\n",
       "        46,  48,  68,  23,   7,  25,  80,  86, 115,  29,  37,  62,  63,\n",
       "        64,  64,  67,  80], dtype=int32)"
      ]
     },
     "execution_count": 70,
     "metadata": {},
     "output_type": "execute_result"
    }
   ],
   "source": [
    "env.line_or_to_subid"
   ]
  },
  {
   "cell_type": "code",
   "execution_count": 74,
   "metadata": {},
   "outputs": [
    {
     "data": {
      "text/plain": [
       "['day_of_week',\n",
       " 'hour_of_day',\n",
       " 'minute_of_hour',\n",
       " 'prod_p',\n",
       " 'prod_v',\n",
       " 'load_p',\n",
       " 'load_q',\n",
       " 'actual_dispatch',\n",
       " 'target_dispatch',\n",
       " 'topo_vect',\n",
       " 'time_before_cooldown_line',\n",
       " 'time_before_cooldown_sub',\n",
       " 'rho',\n",
       " 'timestep_overflow',\n",
       " 'line_status']"
      ]
     },
     "execution_count": 74,
     "metadata": {},
     "output_type": "execute_result"
    }
   ],
   "source": [
    "\"day_of_week,hour_of_day,minute_of_hour,prod_p,prod_v,load_p,load_q,actual_dispatch,target_dispatch,topo_vect,time_before_cooldown_line,time_before_cooldown_sub,rho,timestep_overflow,line_status\".split(\",\")"
   ]
  },
  {
   "cell_type": "code",
   "execution_count": 86,
   "metadata": {},
   "outputs": [
    {
     "data": {
      "text/plain": [
       "{0, 1, 2, 3, 4}"
      ]
     },
     "execution_count": 86,
     "metadata": {},
     "output_type": "execute_result"
    }
   ],
   "source": [
    "{0, 1, 2} | {1,2, 3} | {2, 3, 4}"
   ]
  },
  {
   "cell_type": "code",
   "execution_count": 21,
   "metadata": {},
   "outputs": [],
   "source": [
    "a = np.random.rand(3, 5)"
   ]
  },
  {
   "cell_type": "code",
   "execution_count": 22,
   "metadata": {},
   "outputs": [],
   "source": [
    "a = torch.tensor(a).to(torch.float32)"
   ]
  },
  {
   "cell_type": "code",
   "execution_count": 23,
   "metadata": {},
   "outputs": [],
   "source": [
    "act = torch.tensor([1, 3, 4])"
   ]
  },
  {
   "cell_type": "code",
   "execution_count": 24,
   "metadata": {},
   "outputs": [],
   "source": [
    "reward = torch.tensor([10, 100, 1000]).to(torch.float32)"
   ]
  },
  {
   "cell_type": "code",
   "execution_count": 25,
   "metadata": {},
   "outputs": [],
   "source": [
    "a[np.arange(3), act] = reward"
   ]
  },
  {
   "cell_type": "code",
   "execution_count": 26,
   "metadata": {},
   "outputs": [
    {
     "data": {
      "text/plain": [
       "tensor([[2.5946e-01, 1.0000e+01, 8.6356e-01, 9.7282e-01, 7.8723e-01],\n",
       "        [6.7409e-01, 8.3620e-01, 3.8430e-01, 1.0000e+02, 6.7727e-01],\n",
       "        [1.6835e-01, 9.4377e-01, 8.8787e-01, 4.9811e-01, 1.0000e+03]])"
      ]
     },
     "execution_count": 26,
     "metadata": {},
     "output_type": "execute_result"
    }
   ],
   "source": [
    "a"
   ]
  },
  {
   "cell_type": "code",
   "execution_count": null,
   "metadata": {},
   "outputs": [],
   "source": []
  }
 ],
 "metadata": {
  "kernelspec": {
   "display_name": "Python 3",
   "language": "python",
   "name": "python3"
  },
  "language_info": {
   "codemirror_mode": {
    "name": "ipython",
    "version": 3
   },
   "file_extension": ".py",
   "mimetype": "text/x-python",
   "name": "python",
   "nbconvert_exporter": "python",
   "pygments_lexer": "ipython3",
   "version": "3.6.9"
  }
 },
 "nbformat": 4,
 "nbformat_minor": 4
}
