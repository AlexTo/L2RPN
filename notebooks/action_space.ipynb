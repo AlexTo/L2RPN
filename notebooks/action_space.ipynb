{
 "cells": [
  {
   "cell_type": "code",
   "execution_count": 1,
   "metadata": {},
   "outputs": [],
   "source": [
    "import grid2op\n",
    "import numpy as np\n",
    "import torch"
   ]
  },
  {
   "cell_type": "code",
   "execution_count": 2,
   "metadata": {},
   "outputs": [],
   "source": [
    "env = grid2op.make(\"l2rpn_neurips_2020_track2_small\")"
   ]
  },
  {
   "cell_type": "code",
   "execution_count": 3,
   "metadata": {},
   "outputs": [],
   "source": [
    "from grid2op.Converter import IdToAct"
   ]
  },
  {
   "cell_type": "code",
   "execution_count": 4,
   "metadata": {},
   "outputs": [],
   "source": [
    "action_space = env.action_space"
   ]
  },
  {
   "cell_type": "code",
   "execution_count": 7,
   "metadata": {},
   "outputs": [
    {
     "data": {
      "text/plain": [
       "-609357268728"
      ]
     },
     "execution_count": 7,
     "metadata": {},
     "output_type": "execute_result"
    }
   ],
   "source": [
    "-np.prod(action_space.shape).item()"
   ]
  },
  {
   "cell_type": "code",
   "execution_count": 14,
   "metadata": {},
   "outputs": [
    {
     "ename": "AttributeError",
     "evalue": "'Environment_l2rpn_neurips_2020_track2_x1' object has no attribute 'unwrapped'",
     "output_type": "error",
     "traceback": [
      "\u001b[0;31m---------------------------------------------------------------------------\u001b[0m",
      "\u001b[0;31mAttributeError\u001b[0m                            Traceback (most recent call last)",
      "\u001b[0;32m<ipython-input-14-0956359ecf9d>\u001b[0m in \u001b[0;36m<module>\u001b[0;34m()\u001b[0m\n\u001b[0;32m----> 1\u001b[0;31m \u001b[0menv\u001b[0m\u001b[0;34m.\u001b[0m\u001b[0munwrapped\u001b[0m\u001b[0;34m.\u001b[0m\u001b[0mid\u001b[0m\u001b[0;34m\u001b[0m\u001b[0;34m\u001b[0m\u001b[0m\n\u001b[0m",
      "\u001b[0;32m~/miniconda3/envs/grid2op/lib/python3.6/site-packages/grid2op/Environment/MultiMixEnv.py\u001b[0m in \u001b[0;36m__getattr__\u001b[0;34m(self, name)\u001b[0m\n\u001b[1;32m    115\u001b[0m \u001b[0;34m\u001b[0m\u001b[0m\n\u001b[1;32m    116\u001b[0m     \u001b[0;32mdef\u001b[0m \u001b[0m__getattr__\u001b[0m\u001b[0;34m(\u001b[0m\u001b[0mself\u001b[0m\u001b[0;34m,\u001b[0m \u001b[0mname\u001b[0m\u001b[0;34m)\u001b[0m\u001b[0;34m:\u001b[0m\u001b[0;34m\u001b[0m\u001b[0;34m\u001b[0m\u001b[0m\n\u001b[0;32m--> 117\u001b[0;31m         \u001b[0;32mreturn\u001b[0m \u001b[0mgetattr\u001b[0m\u001b[0;34m(\u001b[0m\u001b[0mself\u001b[0m\u001b[0;34m.\u001b[0m\u001b[0mcurrent_env\u001b[0m\u001b[0;34m,\u001b[0m \u001b[0mname\u001b[0m\u001b[0;34m)\u001b[0m\u001b[0;34m\u001b[0m\u001b[0;34m\u001b[0m\u001b[0m\n\u001b[0m\u001b[1;32m    118\u001b[0m \u001b[0;34m\u001b[0m\u001b[0m\n\u001b[1;32m    119\u001b[0m     \u001b[0;32mdef\u001b[0m \u001b[0mkeys\u001b[0m\u001b[0;34m(\u001b[0m\u001b[0mself\u001b[0m\u001b[0;34m)\u001b[0m\u001b[0;34m:\u001b[0m\u001b[0;34m\u001b[0m\u001b[0;34m\u001b[0m\u001b[0m\n",
      "\u001b[0;31mAttributeError\u001b[0m: 'Environment_l2rpn_neurips_2020_track2_x1' object has no attribute 'unwrapped'"
     ]
    }
   ],
   "source": [
    "env.unwrapped.id"
   ]
  },
  {
   "cell_type": "code",
   "execution_count": 13,
   "metadata": {},
   "outputs": [
    {
     "ename": "TypeError",
     "evalue": "'NoneType' object is not callable",
     "output_type": "error",
     "traceback": [
      "\u001b[0;31m---------------------------------------------------------------------------\u001b[0m",
      "\u001b[0;31mTypeError\u001b[0m                                 Traceback (most recent call last)",
      "\u001b[0;32m<ipython-input-13-62b358bc0f22>\u001b[0m in \u001b[0;36m<module>\u001b[0;34m()\u001b[0m\n\u001b[0;32m----> 1\u001b[0;31m \u001b[0menv\u001b[0m\u001b[0;34m.\u001b[0m\u001b[0mchronics_handler\u001b[0m\u001b[0;34m.\u001b[0m\u001b[0mreal_data\u001b[0m\u001b[0;34m.\u001b[0m\u001b[0mchunk_size\u001b[0m\u001b[0;34m(\u001b[0m\u001b[0;34m)\u001b[0m\u001b[0;34m\u001b[0m\u001b[0;34m\u001b[0m\u001b[0m\n\u001b[0m",
      "\u001b[0;31mTypeError\u001b[0m: 'NoneType' object is not callable"
     ]
    }
   ],
   "source": [
    "env.chronics_handler.real_data().ipynb_checkp"
   ]
  },
  {
   "cell_type": "code",
   "execution_count": 92,
   "metadata": {},
   "outputs": [],
   "source": [
    "change_line = action_space.get_change_line_status_vect()\n",
    "set_line = action_space.get_set_line_status_vect()"
   ]
  },
  {
   "cell_type": "code",
   "execution_count": 93,
   "metadata": {},
   "outputs": [],
   "source": [
    "change_line[0] = True\n",
    "change_line[1] = True\n",
    "set_line[2] = 1"
   ]
  },
  {
   "cell_type": "code",
   "execution_count": 94,
   "metadata": {},
   "outputs": [],
   "source": [
    "act = action_space({\"change_line_status\": change_line,\n",
    "                    \"set_line_status\": set_line,\n",
    "                    \"set_bus\": {\"lines_ex_id\": [(18,2)], \"generators_id\": [(3,2), (4,2)]},\n",
    "                    \"redispatch\": [(0,+10)]})"
   ]
  },
  {
   "cell_type": "code",
   "execution_count": 95,
   "metadata": {},
   "outputs": [
    {
     "name": "stdout",
     "output_type": "stream",
     "text": [
      "This action will:\n",
      "\t - NOT change anything to the injections\n",
      "\t - Redispatch gen_3_0 of 10.0\n",
      "\t - force reconnection of 1 powerlines ([2])\n",
      "\t - switch status of 2 powerlines ([0 1])\n",
      "\t - NOT switch anything in the topology\n",
      "\t - Set the bus of the following element:\n",
      "\t \t - assign bus 2 to generator 3 [on substation 9]\n",
      "\t \t - assign bus 2 to generator 4 [on substation 10]\n",
      "\t \t - assign bus 2 to line (extremity) 18 [on substation 79]\n"
     ]
    }
   ],
   "source": [
    "print(act)"
   ]
  },
  {
   "cell_type": "code",
   "execution_count": 99,
   "metadata": {},
   "outputs": [
    {
     "data": {
      "text/plain": [
       "256"
      ]
     },
     "execution_count": 99,
     "metadata": {},
     "output_type": "execute_result"
    }
   ],
   "source": [
    "len(IdToAct.get_all_unitary_redispatch(action_space))"
   ]
  },
  {
   "cell_type": "code",
   "execution_count": 43,
   "metadata": {},
   "outputs": [
    {
     "data": {
      "text/plain": [
       "533"
      ]
     },
     "execution_count": 43,
     "metadata": {},
     "output_type": "execute_result"
    }
   ],
   "source": [
    "env.n_gen + env.n_load + env.n_line * 2"
   ]
  },
  {
   "cell_type": "code",
   "execution_count": 33,
   "metadata": {},
   "outputs": [
    {
     "data": {
      "text/plain": [
       "1500"
      ]
     },
     "execution_count": 33,
     "metadata": {},
     "output_type": "execute_result"
    }
   ],
   "source": [
    "env.n_line * 2 + 533 * 2 + env.n_gen"
   ]
  },
  {
   "cell_type": "code",
   "execution_count": 54,
   "metadata": {},
   "outputs": [],
   "source": [
    "act_dict = act.impact_on_objects()"
   ]
  },
  {
   "cell_type": "code",
   "execution_count": 55,
   "metadata": {},
   "outputs": [
    {
     "data": {
      "text/plain": [
       "{'has_impact': True,\n",
       " 'injection': {'changed': False, 'count': 0, 'impacted': []},\n",
       " 'force_line': {'changed': True,\n",
       "  'reconnections': {'count': 1, 'powerlines': array([2])},\n",
       "  'disconnections': {'count': 0, 'powerlines': []}},\n",
       " 'switch_line': {'changed': True, 'count': 2, 'powerlines': array([0, 1])},\n",
       " 'topology': {'changed': True,\n",
       "  'bus_switch': [],\n",
       "  'assigned_bus': [{'bus': 2,\n",
       "    'object_type': 'generator',\n",
       "    'object_id': 3,\n",
       "    'substation': 9},\n",
       "   {'bus': 2, 'object_type': 'generator', 'object_id': 4, 'substation': 10},\n",
       "   {'bus': 2,\n",
       "    'object_type': 'line (extremity)',\n",
       "    'object_id': 18,\n",
       "    'substation': 79}],\n",
       "  'disconnect_bus': []},\n",
       " 'redispatch': {'changed': False, 'generators': []}}"
      ]
     },
     "execution_count": 55,
     "metadata": {},
     "output_type": "execute_result"
    }
   ],
   "source": [
    "act_dict"
   ]
  },
  {
   "cell_type": "code",
   "execution_count": 83,
   "metadata": {},
   "outputs": [
    {
     "data": {
      "text/plain": [
       "{9, 10, 79}"
      ]
     },
     "execution_count": 83,
     "metadata": {},
     "output_type": "execute_result"
    }
   ],
   "source": [
    "{s['substation'] for s in act_dict[\"topology\"][\"assigned_bus\"]}"
   ]
  },
  {
   "cell_type": "code",
   "execution_count": 57,
   "metadata": {},
   "outputs": [
    {
     "data": {
      "text/plain": [
       "3"
      ]
     },
     "execution_count": 57,
     "metadata": {},
     "output_type": "execute_result"
    }
   ],
   "source": [
    "len(act_dict[\"topology\"][\"assigned_bus\"])"
   ]
  },
  {
   "cell_type": "code",
   "execution_count": 58,
   "metadata": {},
   "outputs": [
    {
     "data": {
      "text/plain": [
       "0"
      ]
     },
     "execution_count": 58,
     "metadata": {},
     "output_type": "execute_result"
    }
   ],
   "source": [
    "len(act_dict[\"topology\"][\"disconnect_bus\"])"
   ]
  },
  {
   "cell_type": "code",
   "execution_count": 59,
   "metadata": {},
   "outputs": [
    {
     "data": {
      "text/plain": [
       "0"
      ]
     },
     "execution_count": 59,
     "metadata": {},
     "output_type": "execute_result"
    }
   ],
   "source": [
    "len(act_dict[\"redispatch\"][\"generators\"])"
   ]
  },
  {
   "cell_type": "code",
   "execution_count": 66,
   "metadata": {},
   "outputs": [
    {
     "data": {
      "text/plain": [
       "array([  0,   1,   2,   3,   5,   6,   7,  10,  11,  12,  13,  14,  15,\n",
       "        16,  17,  18,  19,  20,  21,  22,  23,  26,  27,  28,  30,  31,\n",
       "        32,  33,  34,  35,  38,  39,  40,  41,  42,  43,  44,  45,  46,\n",
       "        47,  48,  49,  50,  51,  52,  53,  54,  55,  56,  57,  58,  59,\n",
       "        61,  65,  66,  69,  71,  72,  73,  74,  75,  76,  77,  78,  79,\n",
       "        81,  82,  83,  84,  85,  87,  89,  90,  91,  92,  93,  94,  95,\n",
       "        96,  97,  98,  99, 100, 101, 102, 103, 104, 105, 106, 107, 108,\n",
       "       109, 111, 112, 113, 114, 115, 116, 117], dtype=int32)"
      ]
     },
     "execution_count": 66,
     "metadata": {},
     "output_type": "execute_result"
    }
   ],
   "source": [
    "env.load_to_subid"
   ]
  },
  {
   "cell_type": "code",
   "execution_count": 69,
   "metadata": {},
   "outputs": [
    {
     "data": {
      "text/plain": [
       "array([  1,   2,  11,  70,  71,  71,  72,  73,  74,  74,  74,  76,  76,\n",
       "        11,  76,  77,  78,  79,  79,  79,  81,  82,  83,  84,  11,  84,\n",
       "        85,  87,  88,  88,  89,  89,  90,  91,  91,  11,  91,  92,  93,\n",
       "        93,  94,  95,  95,  95,  96,  97,  12,  98,  99,  99,  95,  96,\n",
       "        99,  99, 100, 101, 101,  13, 102, 103, 103, 104, 105, 104, 105,\n",
       "       106, 107, 106,  14, 108, 109, 109, 110, 111, 112, 112, 113, 114,\n",
       "       114,  14, 116, 117, 117,  15,  16,   4,  16,  17,  18,  19,  18,\n",
       "        20,  21,  22,  23,  24,   4,  26,  27,  28,  29,  29,  30,  30,\n",
       "        31,  31,  31,   5,  32,  33,  35,  36,  36,  35,  36,  38,  39,\n",
       "        37,   6,  39,  40,  41,  41,  43,  42,  44,  45,  46,  47,   8,\n",
       "        48,  48,  48,  48,  48,  49,  50,  51,  52,  53,   9,  53,  53,\n",
       "        54,  55,  55,  56,  56,  57,  57,  58,  10,  58,  58,  58,  59,\n",
       "        60,  60,  61,  61,  63,  64,  10,  64,  65,  65,  65,  66,  66,\n",
       "        68,  68,  69,  69,   4,  24,  79,  85,  67,  16,  36,  58,  60,\n",
       "        65,  67,  68,  67], dtype=int32)"
      ]
     },
     "execution_count": 69,
     "metadata": {},
     "output_type": "execute_result"
    }
   ],
   "source": [
    "env.line_ex_to_subid"
   ]
  },
  {
   "cell_type": "code",
   "execution_count": 70,
   "metadata": {},
   "outputs": [
    {
     "data": {
      "text/plain": [
       "array([  0,   0,  10,  69,  23,  70,  70,  69,  69,  68,  73,  75,  68,\n",
       "         1,  74,  76,  77,  76,  76,  78,  76,  81,  82,  82,   2,  83,\n",
       "        84,  84,  84,  87,  88,  88,  89,  88,  88,   6,  90,  91,  91,\n",
       "        92,  93,  79,  81,  93,  79,  79,  10,  79,  91,  93,  94,  95,\n",
       "        97,  98,  99,  91, 100,  11,  99,  99, 102, 102,  99, 103, 104,\n",
       "       104, 104, 105,  12, 107, 102, 108, 109, 109,  16,  31,  31,  26,\n",
       "       113,  13,  11,  74,  75,  11,  14,   3,  15,  16,  17,  18,  14,\n",
       "        19,  20,  21,  22,  22,   2,  24,  26,  27,   7,  25,  16,  28,\n",
       "        22,  30,  26,   4,  14,  18,  34,  34,  32,  33,  33,  36,  36,\n",
       "        29,   5,  38,  39,  39,  40,  42,  33,  43,  44,  45,  45,   7,\n",
       "        46,  41,  41,  44,  47,  48,  48,  50,  51,  52,   8,  48,  48,\n",
       "        53,  53,  54,  55,  49,  55,  50,  53,   3,  55,  55,  54,  58,\n",
       "        58,  59,  59,  60,  62,  37,   4,  63,  48,  48,  61,  61,  65,\n",
       "        46,  48,  68,  23,   7,  25,  80,  86, 115,  29,  37,  62,  63,\n",
       "        64,  64,  67,  80], dtype=int32)"
      ]
     },
     "execution_count": 70,
     "metadata": {},
     "output_type": "execute_result"
    }
   ],
   "source": [
    "env.line_or_to_subid"
   ]
  },
  {
   "cell_type": "code",
   "execution_count": 74,
   "metadata": {},
   "outputs": [
    {
     "data": {
      "text/plain": [
       "['day_of_week',\n",
       " 'hour_of_day',\n",
       " 'minute_of_hour',\n",
       " 'prod_p',\n",
       " 'prod_v',\n",
       " 'load_p',\n",
       " 'load_q',\n",
       " 'actual_dispatch',\n",
       " 'target_dispatch',\n",
       " 'topo_vect',\n",
       " 'time_before_cooldown_line',\n",
       " 'time_before_cooldown_sub',\n",
       " 'rho',\n",
       " 'timestep_overflow',\n",
       " 'line_status']"
      ]
     },
     "execution_count": 74,
     "metadata": {},
     "output_type": "execute_result"
    }
   ],
   "source": [
    "\"day_of_week,hour_of_day,minute_of_hour,prod_p,prod_v,load_p,load_q,actual_dispatch,target_dispatch,topo_vect,time_before_cooldown_line,time_before_cooldown_sub,rho,timestep_overflow,line_status\".split(\",\")"
   ]
  },
  {
   "cell_type": "code",
   "execution_count": 86,
   "metadata": {},
   "outputs": [
    {
     "data": {
      "text/plain": [
       "{0, 1, 2, 3, 4}"
      ]
     },
     "execution_count": 86,
     "metadata": {},
     "output_type": "execute_result"
    }
   ],
   "source": [
    "{0, 1, 2} | {1,2, 3} | {2, 3, 4}"
   ]
  },
  {
   "cell_type": "code",
   "execution_count": 21,
   "metadata": {},
   "outputs": [],
   "source": [
    "a = np.random.rand(3, 5)"
   ]
  },
  {
   "cell_type": "code",
   "execution_count": 22,
   "metadata": {},
   "outputs": [],
   "source": [
    "a = torch.tensor(a).to(torch.float32)"
   ]
  },
  {
   "cell_type": "code",
   "execution_count": 23,
   "metadata": {},
   "outputs": [],
   "source": [
    "act = torch.tensor([1, 3, 4])"
   ]
  },
  {
   "cell_type": "code",
   "execution_count": 24,
   "metadata": {},
   "outputs": [],
   "source": [
    "reward = torch.tensor([10, 100, 1000]).to(torch.float32)"
   ]
  },
  {
   "cell_type": "code",
   "execution_count": 25,
   "metadata": {},
   "outputs": [],
   "source": [
    "a[np.arange(3), act] = reward"
   ]
  },
  {
   "cell_type": "code",
   "execution_count": 26,
   "metadata": {},
   "outputs": [
    {
     "data": {
      "text/plain": [
       "tensor([[2.5946e-01, 1.0000e+01, 8.6356e-01, 9.7282e-01, 7.8723e-01],\n",
       "        [6.7409e-01, 8.3620e-01, 3.8430e-01, 1.0000e+02, 6.7727e-01],\n",
       "        [1.6835e-01, 9.4377e-01, 8.8787e-01, 4.9811e-01, 1.0000e+03]])"
      ]
     },
     "execution_count": 26,
     "metadata": {},
     "output_type": "execute_result"
    }
   ],
   "source": [
    "a"
   ]
  },
  {
   "cell_type": "code",
   "execution_count": null,
   "metadata": {},
   "outputs": [],
   "source": []
  }
 ],
 "metadata": {
  "kernelspec": {
   "display_name": "Python 3",
   "language": "python",
   "name": "python3"
  },
  "language_info": {
   "codemirror_mode": {
    "name": "ipython",
    "version": 3
   },
   "file_extension": ".py",
   "mimetype": "text/x-python",
   "name": "python",
   "nbconvert_exporter": "python",
   "pygments_lexer": "ipython3",
   "version": "3.6.9"
  }
 },
 "nbformat": 4,
 "nbformat_minor": 4
}
