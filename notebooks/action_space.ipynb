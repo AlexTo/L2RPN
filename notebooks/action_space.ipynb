{
 "cells": [
  {
   "cell_type": "code",
   "execution_count": 111,
   "metadata": {},
   "outputs": [],
   "source": [
    "import grid2op\n",
    "import numpy as np\n",
    "import torch\n",
    "from grid2op.PlotGrid import PlotMatplot"
   ]
  },
  {
   "cell_type": "code",
   "execution_count": 112,
   "metadata": {},
   "outputs": [],
   "source": [
    "from grid2op.Converter import IdToAct"
   ]
  },
  {
   "cell_type": "code",
   "execution_count": 113,
   "metadata": {},
   "outputs": [],
   "source": [
    "env = grid2op.make(\"l2rpn_case14_sandbox\")"
   ]
  },
  {
   "cell_type": "code",
   "execution_count": 114,
   "metadata": {},
   "outputs": [],
   "source": [
    "plot_helper = PlotMatplot(env.observation_space)"
   ]
  },
  {
   "cell_type": "code",
   "execution_count": 115,
   "metadata": {},
   "outputs": [
    {
     "data": {
      "text/plain": [
       "array([ True,  True, False, False, False,  True])"
      ]
     },
     "execution_count": 115,
     "metadata": {},
     "output_type": "execute_result"
    }
   ],
   "source": [
    "env.gen_redispatchable"
   ]
  },
  {
   "cell_type": "code",
   "execution_count": 116,
   "metadata": {},
   "outputs": [],
   "source": [
    "action_space_class = IdToAct.init_grid(env.action_space)"
   ]
  },
  {
   "cell_type": "code",
   "execution_count": 117,
   "metadata": {},
   "outputs": [],
   "source": [
    "action_space = action_space_class(env.action_space)\n",
    "do_nothing = action_space({})"
   ]
  },
  {
   "cell_type": "code",
   "execution_count": 118,
   "metadata": {},
   "outputs": [],
   "source": [
    "action_space.init_converter()"
   ]
  },
  {
   "cell_type": "code",
   "execution_count": 119,
   "metadata": {},
   "outputs": [],
   "source": [
    "action_vectors = [act.to_vect() for act in action_space.all_actions]"
   ]
  },
  {
   "cell_type": "code",
   "execution_count": 120,
   "metadata": {},
   "outputs": [],
   "source": [
    "action_tensor = torch.tensor(action_vectors, requires_grad=False).float()"
   ]
  },
  {
   "cell_type": "code",
   "execution_count": 121,
   "metadata": {},
   "outputs": [
    {
     "data": {
      "text/plain": [
       "torch.Size([511, 160])"
      ]
     },
     "execution_count": 121,
     "metadata": {},
     "output_type": "execute_result"
    }
   ],
   "source": [
    "action_tensor.shape"
   ]
  },
  {
   "cell_type": "code",
   "execution_count": 130,
   "metadata": {},
   "outputs": [
    {
     "data": {
      "text/plain": [
       "511"
      ]
     },
     "execution_count": 130,
     "metadata": {},
     "output_type": "execute_result"
    }
   ],
   "source": [
    "action_space.size()"
   ]
  },
  {
   "cell_type": "code",
   "execution_count": 51,
   "metadata": {},
   "outputs": [
    {
     "data": {
      "text/plain": [
       "array([0.00391944, 0.00316219, 0.00257543, 0.00346475, 0.00271865,\n",
       "       0.00128385, 0.00333111, 0.00153266, 0.00090554, 0.00231161,\n",
       "       0.00016458, 0.00066574, 0.00113379, 0.00027766, 0.00112932,\n",
       "       0.00248803, 0.00116208, 0.00193592, 0.00224122, 0.00203188],\n",
       "      dtype=float32)"
      ]
     },
     "execution_count": 51,
     "metadata": {},
     "output_type": "execute_result"
    }
   ],
   "source": [
    "env.current_obs.rho "
   ]
  },
  {
   "cell_type": "code",
   "execution_count": 17,
   "metadata": {},
   "outputs": [
    {
     "data": {
      "text/plain": [
       "511"
      ]
     },
     "execution_count": 17,
     "metadata": {},
     "output_type": "execute_result"
    }
   ],
   "source": [
    "len(action_space.all_actions)"
   ]
  },
  {
   "cell_type": "code",
   "execution_count": 29,
   "metadata": {},
   "outputs": [],
   "source": [
    "unitary_line_set_vect = action_space.get_all_unitary_line_set(action_space)"
   ]
  },
  {
   "cell_type": "code",
   "execution_count": 24,
   "metadata": {},
   "outputs": [
    {
     "name": "stdout",
     "output_type": "stream",
     "text": [
      "This action will:\n",
      "\t - NOT change anything to the injections\n",
      "\t - NOT perform any redispatching action\n",
      "\t - NOT force any line status\n",
      "\t - switch status of 1 powerlines ([0])\n",
      "\t - NOT switch anything in the topology\n",
      "\t - NOT force any particular bus configuration\n"
     ]
    }
   ],
   "source": [
    "print(unitary_line_change_vect[10])"
   ]
  },
  {
   "cell_type": "code",
   "execution_count": 26,
   "metadata": {},
   "outputs": [
    {
     "data": {
      "text/plain": [
       "{'has_impact': False,\n",
       " 'injection': {'changed': False, 'count': 0, 'impacted': []},\n",
       " 'force_line': {'changed': False,\n",
       "  'reconnections': {'count': 0, 'powerlines': []},\n",
       "  'disconnections': {'count': 0, 'powerlines': []}},\n",
       " 'switch_line': {'changed': False, 'count': 0, 'powerlines': []},\n",
       " 'topology': {'changed': False,\n",
       "  'bus_switch': [],\n",
       "  'assigned_bus': [],\n",
       "  'disconnect_bus': []},\n",
       " 'redispatch': {'changed': False, 'generators': []}}"
      ]
     },
     "execution_count": 26,
     "metadata": {},
     "output_type": "execute_result"
    }
   ],
   "source": [
    "do_nothing.impact_on_objects()"
   ]
  },
  {
   "cell_type": "code",
   "execution_count": 28,
   "metadata": {},
   "outputs": [
    {
     "data": {
      "text/plain": [
       "20"
      ]
     },
     "execution_count": 28,
     "metadata": {},
     "output_type": "execute_result"
    }
   ],
   "source": [
    "len(unitary_line_change_vect)"
   ]
  },
  {
   "cell_type": "code",
   "execution_count": 34,
   "metadata": {},
   "outputs": [
    {
     "name": "stdout",
     "output_type": "stream",
     "text": [
      "This action will:\n",
      "\t - NOT change anything to the injections\n",
      "\t - NOT perform any redispatching action\n",
      "\t - force reconnection of 1 powerlines ([0])\n",
      "\t - NOT switch any line status\n",
      "\t - NOT switch anything in the topology\n",
      "\t - Set the bus of the following element:\n",
      "\t \t - assign bus 1 to line (origin) 0 [on substation 0]\n",
      "\t \t - assign bus 1 to line (extremity) 0 [on substation 1]\n"
     ]
    }
   ],
   "source": [
    "print(unitary_line_set_vect[20])"
   ]
  },
  {
   "cell_type": "code",
   "execution_count": 37,
   "metadata": {},
   "outputs": [
    {
     "name": "stdout",
     "output_type": "stream",
     "text": [
      "This action will:\n",
      "\t - NOT change anything to the injections\n",
      "\t - NOT perform any redispatching action\n",
      "\t - force reconnection of 1 powerlines ([0])\n",
      "\t - NOT switch any line status\n",
      "\t - NOT switch anything in the topology\n",
      "\t - Set the bus of the following element:\n",
      "\t \t - assign bus 1 to line (origin) 0 [on substation 0]\n",
      "\t \t - assign bus 1 to line (extremity) 0 [on substation 1]\n"
     ]
    }
   ],
   "source": [
    "print(unitary_line_set_vect[20])"
   ]
  },
  {
   "cell_type": "code",
   "execution_count": 85,
   "metadata": {},
   "outputs": [
    {
     "name": "stdout",
     "output_type": "stream",
     "text": [
      "This action will:\n",
      "\t - NOT change anything to the injections\n",
      "\t - NOT perform any redispatching action\n",
      "\t - force reconnection of 1 powerlines ([10])\n",
      "\t - NOT switch any line status\n",
      "\t - NOT switch anything in the topology\n",
      "\t - Set the bus of the following element:\n",
      "\t \t - assign bus 2 to line (origin) 10 [on substation 8]\n",
      "\t \t - assign bus 2 to line (extremity) 10 [on substation 9]\n"
     ]
    }
   ],
   "source": [
    "print(unitary_line_set_vect[90])"
   ]
  },
  {
   "cell_type": "code",
   "execution_count": 41,
   "metadata": {},
   "outputs": [
    {
     "data": {
      "text/plain": [
       "178"
      ]
     },
     "execution_count": 41,
     "metadata": {},
     "output_type": "execute_result"
    }
   ],
   "source": [
    "action_space.get_all_unitary_topologies_set(action_space)"
   ]
  },
  {
   "cell_type": "code",
   "execution_count": 43,
   "metadata": {},
   "outputs": [
    {
     "data": {
      "text/plain": [
       "511"
      ]
     },
     "execution_count": 43,
     "metadata": {},
     "output_type": "execute_result"
    }
   ],
   "source": [
    "action_space.size()"
   ]
  },
  {
   "cell_type": "code",
   "execution_count": 52,
   "metadata": {},
   "outputs": [
    {
     "data": {
      "text/plain": [
       "array([ 3, 19,  9, 13, 20, 14, 21, 44, 47, 50, 41, 54, 45, 51, 55, 31, 38,\n",
       "       27, 34, 33], dtype=int32)"
      ]
     },
     "execution_count": 52,
     "metadata": {},
     "output_type": "execute_result"
    }
   ],
   "source": [
    "env.current_obs.line_ex_pos_topo_vect"
   ]
  },
  {
   "cell_type": "code",
   "execution_count": 53,
   "metadata": {},
   "outputs": [
    {
     "data": {
      "text/plain": [
       "array([0, 0, 0, 0, 1, 1, 2, 0, 0, 0, 0, 0, 1, 1, 1, 0, 2, 3, 0, 2],\n",
       "      dtype=int32)"
      ]
     },
     "execution_count": 53,
     "metadata": {},
     "output_type": "execute_result"
    }
   ],
   "source": [
    "env.current_obs.line_ex_to_sub_pos"
   ]
  },
  {
   "cell_type": "code",
   "execution_count": 56,
   "metadata": {},
   "outputs": [
    {
     "data": {
      "text/plain": [
       "(57, 57)"
      ]
     },
     "execution_count": 56,
     "metadata": {},
     "output_type": "execute_result"
    }
   ],
   "source": [
    "env.current_obs.connectivity_matrix().shape"
   ]
  },
  {
   "cell_type": "code",
   "execution_count": 58,
   "metadata": {},
   "outputs": [
    {
     "data": {
      "text/plain": [
       "array([ 7, 11, 28, 29, 35,  2], dtype=int32)"
      ]
     },
     "execution_count": 58,
     "metadata": {},
     "output_type": "execute_result"
    }
   ],
   "source": [
    "env.current_obs.gen_pos_topo_vect"
   ]
  },
  {
   "cell_type": "code",
   "execution_count": 59,
   "metadata": {},
   "outputs": [
    {
     "data": {
      "text/plain": [
       "array([1, 1, 1, 1, 1, 1, 1, 1, 1, 1, 1, 1, 1, 1, 1, 1, 1, 1, 1, 1, 1, 1,\n",
       "       1, 1, 1, 1, 1, 1, 1, 1, 1, 1, 1, 1, 1, 1, 1, 1, 1, 1, 1, 1, 1, 1,\n",
       "       1, 1, 1, 1, 1, 1, 1, 1, 1, 1, 1, 1, 1], dtype=int32)"
      ]
     },
     "execution_count": 59,
     "metadata": {},
     "output_type": "execute_result"
    }
   ],
   "source": [
    "env.current_obs.topo_vect"
   ]
  },
  {
   "cell_type": "code",
   "execution_count": 60,
   "metadata": {},
   "outputs": [
    {
     "data": {
      "text/plain": [
       "array([ 0,  1,  4,  5,  6, 10, 15, 24, 25, 26, 36, 37, 42, 48, 52, 16, 17,\n",
       "       22, 32, 39], dtype=int32)"
      ]
     },
     "execution_count": 60,
     "metadata": {},
     "output_type": "execute_result"
    }
   ],
   "source": [
    "env.current_obs.line_or_pos_topo_vect"
   ]
  },
  {
   "cell_type": "code",
   "execution_count": 86,
   "metadata": {},
   "outputs": [
    {
     "data": {
      "image/png": "[encoded data removed]",
      "text/plain": [
       "<Figure size 1280x720 with 1 Axes>"
      ]
     },
     "execution_count": 86,
     "metadata": {},
     "output_type": "execute_result"
    }
   ],
   "source": [
    "plot_helper.plot_obs(env.current_obs)"
   ]
  },
  {
   "cell_type": "code",
   "execution_count": null,
   "metadata": {},
   "outputs": [],
   "source": []
  },
  {
   "cell_type": "code",
   "execution_count": 73,
   "metadata": {},
   "outputs": [
    {
     "data": {
      "text/plain": [
       "array([ 7, 11, 28, 29, 35,  2], dtype=int32)"
      ]
     },
     "execution_count": 73,
     "metadata": {},
     "output_type": "execute_result"
    }
   ],
   "source": [
    "env.current_obs.gen_pos_topo_vect"
   ]
  },
  {
   "cell_type": "code",
   "execution_count": 69,
   "metadata": {},
   "outputs": [
    {
     "data": {
      "text/plain": [
       "array([ 8, 12, 18, 23, 30, 40, 43, 46, 49, 53, 56], dtype=int32)"
      ]
     },
     "execution_count": 69,
     "metadata": {},
     "output_type": "execute_result"
    }
   ],
   "source": [
    "env.current_obs.load_pos_topo_vect"
   ]
  },
  {
   "cell_type": "code",
   "execution_count": 70,
   "metadata": {},
   "outputs": [
    {
     "data": {
      "text/plain": [
       "array([ 0,  1,  4,  5,  6, 10, 15, 24, 25, 26, 36, 37, 42, 48, 52, 16, 17,\n",
       "       22, 32, 39], dtype=int32)"
      ]
     },
     "execution_count": 70,
     "metadata": {},
     "output_type": "execute_result"
    }
   ],
   "source": [
    "env.current_obs.line_or_pos_topo_vect"
   ]
  },
  {
   "cell_type": "code",
   "execution_count": 71,
   "metadata": {},
   "outputs": [
    {
     "data": {
      "text/plain": [
       "array([ 3, 19,  9, 13, 20, 14, 21, 44, 47, 50, 41, 54, 45, 51, 55, 31, 38,\n",
       "       27, 34, 33], dtype=int32)"
      ]
     },
     "execution_count": 71,
     "metadata": {},
     "output_type": "execute_result"
    }
   ],
   "source": [
    "env.current_obs.line_ex_pos_topo_vect"
   ]
  },
  {
   "cell_type": "code",
   "execution_count": 78,
   "metadata": {},
   "outputs": [
    {
     "data": {
      "text/plain": [
       "57"
      ]
     },
     "execution_count": 78,
     "metadata": {},
     "output_type": "execute_result"
    }
   ],
   "source": [
    "len(env.current_obs.topo_vect)"
   ]
  },
  {
   "cell_type": "code",
   "execution_count": 81,
   "metadata": {},
   "outputs": [
    {
     "name": "stdout",
     "output_type": "stream",
     "text": [
      "This action will:\n",
      "\t - NOT change anything to the injections\n",
      "\t - NOT perform any redispatching action\n",
      "\t - NOT force any line status\n",
      "\t - NOT switch any line status\n",
      "\t - NOT switch anything in the topology\n",
      "\t - NOT force any particular bus configuration\n"
     ]
    }
   ],
   "source": [
    "print(action_space.all_actions[0])"
   ]
  },
  {
   "cell_type": "code",
   "execution_count": 91,
   "metadata": {},
   "outputs": [
    {
     "name": "stdout",
     "output_type": "stream",
     "text": [
      "This action will:\n",
      "\t - NOT change anything to the injections\n",
      "\t - NOT perform any redispatching action\n",
      "\t - force reconnection of 1 powerlines ([9])\n",
      "\t - NOT switch any line status\n",
      "\t - NOT switch anything in the topology\n",
      "\t - Set the bus of the following element:\n",
      "\t \t - assign bus 1 to line (origin) 9 [on substation 5]\n",
      "\t \t - assign bus 2 to line (extremity) 9 [on substation 12]\n"
     ]
    }
   ],
   "source": [
    "print(action_space.all_actions[50])"
   ]
  },
  {
   "cell_type": "code",
   "execution_count": 98,
   "metadata": {},
   "outputs": [
    {
     "data": {
      "text/plain": [
       "array([ 0.  ,  0.  ,  0.  ,  0.  ,  0.  ,  0.  ,  0.  ,  0.  ,  0.  ,\n",
       "        0.  ,  0.  ,  0.  ,  0.  ,  0.  ,  0.  ,  0.  ,  0.  ,  0.  ,\n",
       "        0.  ,  0.  ,  0.  ,  0.  ,  0.  ,  0.  ,  0.  ,  0.  ,  0.  ,\n",
       "        0.  ,  0.  ,  0.  ,  0.  ,  0.  ,  0.  ,  0.  ,  0.  ,  0.  ,\n",
       "        0.  ,  0.  ,  0.  ,  0.  ,  0.  ,  0.  ,  0.  ,  0.  ,  0.  ,\n",
       "        0.  ,  0.  ,  0.  ,  0.  ,  0.  ,  0.  ,  0.  ,  0.  ,  0.  ,\n",
       "        0.  ,  0.  ,  0.  ,  0.  ,  0.  ,  0.  ,  0.  ,  0.  ,  0.  ,\n",
       "        0.  ,  0.  ,  0.  ,  0.  ,  0.  ,  0.  ,  0.  ,  0.  ,  0.  ,\n",
       "        0.  ,  0.  ,  0.  ,  0.  ,  0.  ,  0.  ,  0.  ,  0.  ,  0.  ,\n",
       "        0.  ,  0.  ,  0.  ,  0.  ,  0.  ,  0.  ,  0.  ,  0.  ,  0.  ,\n",
       "        0.  ,  0.  ,  0.  ,  0.  ,  0.  ,  0.  ,  0.  ,  0.  ,  0.  ,\n",
       "        0.  ,  0.  ,  0.  ,  0.  ,  0.  ,  0.  ,  0.  ,  0.  ,  0.  ,\n",
       "        0.  ,  0.  ,  0.  ,  0.  ,  0.  ,  0.  ,  0.  ,  0.  ,  0.  ,\n",
       "        0.  ,  0.  ,  0.  ,  0.  ,  0.  ,  0.  ,  0.  ,  0.  ,  0.  ,\n",
       "        0.  ,  0.  ,  0.  ,  0.  ,  0.  ,  0.  ,  0.  ,  0.  ,  0.  ,\n",
       "        0.  ,  0.  ,  0.  ,  0.  ,  0.  ,  0.  ,  0.  ,  0.  ,  0.  ,\n",
       "        0.  ,  0.  ,  0.  ,  0.  ,  0.  ,  0.  ,  0.  ,  0.  ,  0.  ,\n",
       "        0.  ,  0.  ,  0.  ,  0.  ,  0.  ,  0.  , -3.75], dtype=float32)"
      ]
     },
     "execution_count": 98,
     "metadata": {},
     "output_type": "execute_result"
    }
   ],
   "source": [
    "action_space.all_actions[510].to_vect()"
   ]
  },
  {
   "cell_type": "code",
   "execution_count": 97,
   "metadata": {},
   "outputs": [
    {
     "data": {
      "text/plain": [
       "511"
      ]
     },
     "execution_count": 97,
     "metadata": {},
     "output_type": "execute_result"
    }
   ],
   "source": [
    "len(action_space.all_actions)"
   ]
  },
  {
   "cell_type": "code",
   "execution_count": 138,
   "metadata": {},
   "outputs": [
    {
     "name": "stdout",
     "output_type": "stream",
     "text": [
      "The time difference is : 0.06062058499810519\n"
     ]
    }
   ],
   "source": [
    "import timeit\n",
    "\n",
    "starttime = timeit.default_timer()\n",
    "np.argwhere(np.array(action_space.all_actions) == unitary_line_change_vect[10])\n",
    "print(\"The time difference is :\", timeit.default_timer() - starttime)"
   ]
  },
  {
   "cell_type": "code",
   "execution_count": 139,
   "metadata": {},
   "outputs": [
    {
     "name": "stdout",
     "output_type": "stream",
     "text": [
      "111\n",
      "The time difference is : 0.024206763999245595\n"
     ]
    }
   ],
   "source": [
    "import timeit\n",
    "\n",
    "starttime = timeit.default_timer()\n",
    "\n",
    "for idx, act in enumerate(action_space.all_actions):\n",
    "    if act == unitary_line_change_vect[10]:\n",
    "        print(idx)\n",
    "        break\n",
    "\n",
    "print(\"The time difference is :\", timeit.default_timer() - starttime)"
   ]
  },
  {
   "cell_type": "code",
   "execution_count": 125,
   "metadata": {},
   "outputs": [
    {
     "name": "stdout",
     "output_type": "stream",
     "text": [
      "This action will:\n",
      "\t - NOT change anything to the injections\n",
      "\t - NOT perform any redispatching action\n",
      "\t - NOT force any line status\n",
      "\t - switch status of 1 powerlines ([10])\n",
      "\t - NOT switch anything in the topology\n",
      "\t - NOT force any particular bus configuration\n"
     ]
    }
   ],
   "source": [
    "print(action_space.all_actions[111])"
   ]
  },
  {
   "cell_type": "code",
   "execution_count": 127,
   "metadata": {},
   "outputs": [
    {
     "name": "stdout",
     "output_type": "stream",
     "text": [
      "This action will:\n",
      "\t - NOT change anything to the injections\n",
      "\t - NOT perform any redispatching action\n",
      "\t - NOT force any line status\n",
      "\t - switch status of 1 powerlines ([10])\n",
      "\t - NOT switch anything in the topology\n",
      "\t - NOT force any particular bus configuration\n"
     ]
    }
   ],
   "source": [
    "print(unitary_line_change_vect[10])"
   ]
  },
  {
   "cell_type": "code",
   "execution_count": 141,
   "metadata": {},
   "outputs": [
    {
     "data": {
      "text/plain": [
       "tensor([0., 0., 0., 0., 0., 0., 0., 0., 0., 0., 0., 0., 0., 0., 0., 0., 0., 0., 0., 0.])"
      ]
     },
     "execution_count": 141,
     "metadata": {},
     "output_type": "execute_result"
    }
   ],
   "source": [
    "torch.zeros(env.n_line)"
   ]
  },
  {
   "cell_type": "code",
   "execution_count": 199,
   "metadata": {},
   "outputs": [],
   "source": [
    "act = action_space.all_actions[300]"
   ]
  },
  {
   "cell_type": "code",
   "execution_count": 233,
   "metadata": {},
   "outputs": [
    {
     "name": "stdout",
     "output_type": "stream",
     "text": [
      "487\n"
     ]
    },
    {
     "data": {
      "text/plain": [
       "{'has_impact': True,\n",
       " 'injection': {'changed': False, 'count': 0, 'impacted': []},\n",
       " 'force_line': {'changed': False,\n",
       "  'reconnections': {'count': 0, 'powerlines': []},\n",
       "  'disconnections': {'count': 0, 'powerlines': []}},\n",
       " 'switch_line': {'changed': False, 'count': 0, 'powerlines': []},\n",
       " 'topology': {'changed': False,\n",
       "  'bus_switch': [],\n",
       "  'assigned_bus': [],\n",
       "  'disconnect_bus': []},\n",
       " 'redispatch': {'changed': True,\n",
       "  'generators': [{'gen_id': 0, 'gen_name': 'gen_1_0', 'amount': 1.25}]}}"
      ]
     },
     "execution_count": 233,
     "metadata": {},
     "output_type": "execute_result"
    }
   ],
   "source": [
    "b = None\n",
    "for idx, a in enumerate(action_space.all_actions):\n",
    "    i = a.impact_on_objects()\n",
    "    if len(i['redispatch']['generators']) > 0:\n",
    "        b = i\n",
    "        print(idx)\n",
    "        break\n",
    "b"
   ]
  },
  {
   "cell_type": "code",
   "execution_count": 210,
   "metadata": {},
   "outputs": [
    {
     "data": {
      "text/plain": [
       "array([ 5., 10.,  0.,  0.,  0., 15.], dtype=float32)"
      ]
     },
     "execution_count": 210,
     "metadata": {},
     "output_type": "execute_result"
    }
   ],
   "source": [
    "env.gen_max_ramp_down"
   ]
  },
  {
   "cell_type": "code",
   "execution_count": 217,
   "metadata": {},
   "outputs": [],
   "source": [
    "levels = np.linspace(-env.gen_max_ramp_down[0], env.gen_max_ramp_up[0], 9)"
   ]
  },
  {
   "cell_type": "code",
   "execution_count": 220,
   "metadata": {},
   "outputs": [
    {
     "data": {
      "text/plain": [
       "array([-5.  , -3.75, -2.5 , -1.25,  0.  ,  1.25,  2.5 ,  3.75,  5.  ])"
      ]
     },
     "execution_count": 220,
     "metadata": {},
     "output_type": "execute_result"
    }
   ],
   "source": [
    "levels.argwhere()"
   ]
  },
  {
   "cell_type": "code",
   "execution_count": 203,
   "metadata": {},
   "outputs": [
    {
     "data": {
      "text/plain": [
       "{'has_impact': True,\n",
       " 'injection': {'changed': False, 'count': 0, 'impacted': []},\n",
       " 'force_line': {'changed': False,\n",
       "  'reconnections': {'count': 0, 'powerlines': []},\n",
       "  'disconnections': {'count': 0, 'powerlines': []}},\n",
       " 'switch_line': {'changed': False, 'count': 0, 'powerlines': []},\n",
       " 'topology': {'changed': True,\n",
       "  'bus_switch': [],\n",
       "  'assigned_bus': [{'bus': 1,\n",
       "    'object_type': 'line (origin)',\n",
       "    'object_id': 0,\n",
       "    'substation': 0},\n",
       "   {'bus': 1, 'object_type': 'line (origin)', 'object_id': 1, 'substation': 0},\n",
       "   {'bus': 1, 'object_type': 'generator', 'object_id': 5, 'substation': 0}],\n",
       "  'disconnect_bus': []},\n",
       " 'redispatch': {'changed': False, 'generators': []}}"
      ]
     },
     "execution_count": 203,
     "metadata": {},
     "output_type": "execute_result"
    }
   ],
   "source": [
    "env.gen_pos_topo_vect"
   ]
  },
  {
   "cell_type": "code",
   "execution_count": 200,
   "metadata": {},
   "outputs": [
    {
     "data": {
      "text/plain": [
       "{'has_impact': True,\n",
       " 'injection': {'changed': False, 'count': 0, 'impacted': []},\n",
       " 'force_line': {'changed': False,\n",
       "  'reconnections': {'count': 0, 'powerlines': []},\n",
       "  'disconnections': {'count': 0, 'powerlines': []}},\n",
       " 'switch_line': {'changed': False, 'count': 0, 'powerlines': []},\n",
       " 'topology': {'changed': True,\n",
       "  'bus_switch': [{'bus': True,\n",
       "    'object_type': 'line (origin)',\n",
       "    'object_id': 1,\n",
       "    'substation': 0}],\n",
       "  'assigned_bus': [],\n",
       "  'disconnect_bus': []},\n",
       " 'redispatch': {'changed': False, 'generators': []}}"
      ]
     },
     "execution_count": 200,
     "metadata": {},
     "output_type": "execute_result"
    }
   ],
   "source": [
    "impacts = act.impact_on_objects()\n",
    "impacts"
   ]
  },
  {
   "cell_type": "code",
   "execution_count": 144,
   "metadata": {},
   "outputs": [],
   "source": [
    "switch_line_tensor = torch.zeros(env.n_line)"
   ]
  },
  {
   "cell_type": "code",
   "execution_count": 147,
   "metadata": {},
   "outputs": [],
   "source": [
    "switch_line_tensor[impacts['switch_line']['powerlines']] = 1"
   ]
  },
  {
   "cell_type": "code",
   "execution_count": 148,
   "metadata": {},
   "outputs": [
    {
     "data": {
      "text/plain": [
       "tensor([0., 0., 0., 0., 0., 0., 0., 0., 0., 0., 1., 0., 0., 0., 0., 0., 0., 0.,\n",
       "        0., 0.])"
      ]
     },
     "execution_count": 148,
     "metadata": {},
     "output_type": "execute_result"
    }
   ],
   "source": [
    "switch_line_tensor"
   ]
  },
  {
   "cell_type": "code",
   "execution_count": 193,
   "metadata": {},
   "outputs": [
    {
     "data": {
      "text/plain": [
       "{'has_impact': True,\n",
       " 'injection': {'changed': False, 'count': 0, 'impacted': []},\n",
       " 'force_line': {'changed': False,\n",
       "  'reconnections': {'count': 0, 'powerlines': []},\n",
       "  'disconnections': {'count': 0, 'powerlines': []}},\n",
       " 'switch_line': {'changed': False, 'count': 0, 'powerlines': []},\n",
       " 'topology': {'changed': True,\n",
       "  'bus_switch': [],\n",
       "  'assigned_bus': [{'bus': 2,\n",
       "    'object_type': 'line (extremity)',\n",
       "    'object_id': 3,\n",
       "    'substation': 3},\n",
       "   {'bus': 2,\n",
       "    'object_type': 'line (extremity)',\n",
       "    'object_id': 5,\n",
       "    'substation': 3},\n",
       "   {'bus': 2, 'object_type': 'line (origin)', 'object_id': 6, 'substation': 3},\n",
       "   {'bus': 1,\n",
       "    'object_type': 'line (origin)',\n",
       "    'object_id': 15,\n",
       "    'substation': 3},\n",
       "   {'bus': 2,\n",
       "    'object_type': 'line (origin)',\n",
       "    'object_id': 16,\n",
       "    'substation': 3},\n",
       "   {'bus': 2, 'object_type': 'load', 'object_id': 2, 'substation': 3}],\n",
       "  'disconnect_bus': []},\n",
       " 'redispatch': {'changed': False, 'generators': []}}"
      ]
     },
     "execution_count": 193,
     "metadata": {},
     "output_type": "execute_result"
    }
   ],
   "source": [
    "act = action_space.all_actions[161]\n",
    "impacts = act.impact_on_objects()\n",
    "impacts"
   ]
  },
  {
   "cell_type": "code",
   "execution_count": 194,
   "metadata": {},
   "outputs": [
    {
     "data": {
      "text/plain": [
       "array([ 8, 12, 18, 23, 30, 40, 43, 46, 49, 53, 56], dtype=int32)"
      ]
     },
     "execution_count": 194,
     "metadata": {},
     "output_type": "execute_result"
    }
   ],
   "source": [
    "env.load_pos_topo_vect"
   ]
  },
  {
   "cell_type": "code",
   "execution_count": 185,
   "metadata": {},
   "outputs": [
    {
     "data": {
      "text/plain": [
       "20"
      ]
     },
     "execution_count": 185,
     "metadata": {},
     "output_type": "execute_result"
    }
   ],
   "source": [
    "len(env.line_or_pos_topo_vect)"
   ]
  },
  {
   "cell_type": "code",
   "execution_count": 188,
   "metadata": {},
   "outputs": [
    {
     "data": {
      "text/plain": [
       "(<grid2op.Space.GridObjects.CompleteObservation_l2rpn_case14_sandbox at 0x7fea267a15c0>,\n",
       " 760.9949,\n",
       " False,\n",
       " {'disc_lines': array([False, False, False, False, False, False, False, False, False,\n",
       "         False, False, False, False, False, False, False, False, False,\n",
       "         False, False]),\n",
       "  'is_illegal': False,\n",
       "  'is_ambiguous': False,\n",
       "  'is_dispatching_illegal': False,\n",
       "  'is_illegal_reco': False,\n",
       "  'opponent_attack_line': None,\n",
       "  'opponent_attack_sub': None,\n",
       "  'opponent_attack_duration': 0,\n",
       "  'exception': [],\n",
       "  'rewards': {}})"
      ]
     },
     "execution_count": 188,
     "metadata": {},
     "output_type": "execute_result"
    }
   ],
   "source": [
    "disc_0 = action_space.disconnect_powerline(line_id=0)\n",
    "env.step(disc_0)"
   ]
  },
  {
   "cell_type": "code",
   "execution_count": 189,
   "metadata": {},
   "outputs": [
    {
     "data": {
      "text/plain": [
       "array([-1,  1,  1, -1,  1,  1,  1,  1,  1,  1,  1,  1,  1,  1,  1,  1,  1,\n",
       "        1,  1,  1,  1,  1,  1,  1,  1,  1,  1,  1,  1,  1,  1,  1,  1,  1,\n",
       "        1,  1,  1,  1,  1,  1,  1,  1,  1,  1,  1,  1,  1,  1,  1,  1,  1,\n",
       "        1,  1,  1,  1,  1,  1], dtype=int32)"
      ]
     },
     "execution_count": 189,
     "metadata": {},
     "output_type": "execute_result"
    }
   ],
   "source": [
    "env.current_obs.topo_vect"
   ]
  },
  {
   "cell_type": "code",
   "execution_count": 190,
   "metadata": {},
   "outputs": [
    {
     "data": {
      "text/plain": [
       "array([ 0,  1,  4,  5,  6, 10, 15, 24, 25, 26, 36, 37, 42, 48, 52, 16, 17,\n",
       "       22, 32, 39], dtype=int32)"
      ]
     },
     "execution_count": 190,
     "metadata": {},
     "output_type": "execute_result"
    }
   ],
   "source": [
    "env.line_or_pos_topo_vect"
   ]
  },
  {
   "cell_type": "code",
   "execution_count": 191,
   "metadata": {},
   "outputs": [
    {
     "data": {
      "text/plain": [
       "array([ 3, 19,  9, 13, 20, 14, 21, 44, 47, 50, 41, 54, 45, 51, 55, 31, 38,\n",
       "       27, 34, 33], dtype=int32)"
      ]
     },
     "execution_count": 191,
     "metadata": {},
     "output_type": "execute_result"
    }
   ],
   "source": [
    "env.line_ex_pos_topo_vect"
   ]
  },
  {
   "cell_type": "code",
   "execution_count": 229,
   "metadata": {},
   "outputs": [],
   "source": [
    "def get_topo_pos_vect(env, obj_type):\n",
    "    pos_vect = env.line_or_pos_topo_vect\n",
    "    if obj_type == 'line (origin)':\n",
    "        pos_vect = env.line_or_pos_topo_vect\n",
    "    elif obj_type == 'line (extremity)':\n",
    "        pos_vect = env.line_ex_pos_topo_vect\n",
    "    elif obj_type == 'load':\n",
    "        pos_vect = env.load_pos_topo_vect\n",
    "    elif obj_type == 'generator':\n",
    "        pos_vect = env.gen_pos_topo_vect\n",
    "    return pos_vect"
   ]
  },
  {
   "cell_type": "code",
   "execution_count": 263,
   "metadata": {},
   "outputs": [],
   "source": [
    "def get_actions_tensor_2(env, all_actions):\n",
    "    action_tensors = []\n",
    "    for act in all_actions:\n",
    "        impacts = act.impact_on_objects()\n",
    "\n",
    "        switch_line_tensor = np.zeros(env.n_line)\n",
    "        switch_line_tensor[impacts['switch_line']['powerlines']] = 1\n",
    "\n",
    "        force_line_disconnect_vector = np.zeros(env.n_line)\n",
    "        force_line_disconnect_vector[impacts['force_line']['disconnections']['powerlines']] = 1\n",
    "\n",
    "        force_line_reconnect_vector = np.zeros(env.n_line)\n",
    "        force_line_reconnect_vector[impacts['force_line']['reconnections']['powerlines']] = 1\n",
    "\n",
    "        set_bus_1_vector = np.zeros(env.dim_topo)\n",
    "        set_bus_2_vector = np.zeros(env.dim_topo)\n",
    "\n",
    "        for bus_assign in impacts['topology']['assigned_bus']:\n",
    "            if bus_assign['bus'] == 1:\n",
    "                bus_vector = set_bus_1_vector\n",
    "            else:\n",
    "                bus_vector = set_bus_2_vector\n",
    "\n",
    "            obj_id = bus_assign['object_id']\n",
    "            obj_type = bus_assign['object_type']\n",
    "\n",
    "            pos_vect = get_topo_pos_vect(env, obj_type)\n",
    "\n",
    "            bus_vector[pos_vect[obj_id]] = 1\n",
    "\n",
    "        switch_bus_vector = np.zeros(env.dim_topo)\n",
    "\n",
    "        for bus_switch in impacts['topology']['bus_switch']:\n",
    "            obj_id = bus_switch['object_id']\n",
    "            obj_type = bus_switch['object_type']\n",
    "            pos_vect = get_topo_pos_vect(env, obj_type)\n",
    "            switch_bus_vector[pos_vect[obj_id]] = 1\n",
    "\n",
    "        redisp_vector = np.zeros(env.n_gen * 8)\n",
    "        for redisp in impacts['redispatch']['generators']:\n",
    "            obj_id = redisp['gen_id']\n",
    "            dispatch_levels = np.linspace(-env.gen_max_ramp_down[obj_id], env.gen_max_ramp_up[obj_id], 9)\n",
    "            level = np.argwhere(dispatch_levels == redisp['amount'])\n",
    "            if level > 4:\n",
    "                level = level - 1\n",
    "            redisp_vector[obj_id * 8 + level] = 1\n",
    "\n",
    "        action_tensors.append(np.concatenate(\n",
    "            [switch_line_tensor, force_line_reconnect_vector, force_line_disconnect_vector, set_bus_1_vector,\n",
    "             set_bus_2_vector, switch_bus_vector, redisp_vector]))\n",
    "    return action_tensors"
   ]
  },
  {
   "cell_type": "code",
   "execution_count": 264,
   "metadata": {},
   "outputs": [],
   "source": [
    "actions_tensor = get_actions_tensor_2(env, action_space.all_actions)"
   ]
  },
  {
   "cell_type": "code",
   "execution_count": 245,
   "metadata": {},
   "outputs": [
    {
     "data": {
      "text/plain": [
       "array([[274]])"
      ]
     },
     "execution_count": 245,
     "metadata": {},
     "output_type": "execute_result"
    }
   ],
   "source": [
    "np.argwhere(actions_tensor[510] == 1)"
   ]
  },
  {
   "cell_type": "code",
   "execution_count": 244,
   "metadata": {},
   "outputs": [
    {
     "data": {
      "text/plain": [
       "511"
      ]
     },
     "execution_count": 244,
     "metadata": {},
     "output_type": "execute_result"
    }
   ],
   "source": [
    "len(actions_tensor)"
   ]
  },
  {
   "cell_type": "code",
   "execution_count": 239,
   "metadata": {},
   "outputs": [
    {
     "data": {
      "text/plain": [
       "47"
      ]
     },
     "execution_count": 239,
     "metadata": {},
     "output_type": "execute_result"
    }
   ],
   "source": [
    "279 - 232"
   ]
  },
  {
   "cell_type": "code",
   "execution_count": 269,
   "metadata": {},
   "outputs": [
    {
     "data": {
      "text/plain": [
       "array([0., 0., 0., 0., 0., 0., 0., 0., 0., 0., 0., 0., 0., 0., 0., 0., 0.,\n",
       "       0., 0., 0., 0., 0., 0., 0., 0., 0., 0., 0., 0., 0., 0., 0., 0., 0.,\n",
       "       0., 0., 0., 0., 0., 0., 0., 0., 0., 0., 0., 0., 0., 0., 0., 0., 0.,\n",
       "       0., 0., 0., 0., 0., 0., 0., 0., 0., 0., 0., 0., 0., 0., 0., 0., 0.,\n",
       "       0., 0., 0., 0., 0., 0., 0., 0., 0., 0., 0., 0., 1., 1., 0., 0., 0.,\n",
       "       0., 0., 0., 0., 0., 0., 0., 0., 0., 0., 0., 0., 0., 0., 0., 0., 0.,\n",
       "       0., 0., 0., 0., 0., 0., 0., 0., 0., 0., 0., 0., 0., 0., 0., 0., 0.,\n",
       "       0., 0., 0., 0., 0., 0., 0., 0., 0., 0., 0., 0., 0., 0., 0., 0., 0.,\n",
       "       1., 0., 0., 1., 1., 0., 0., 0., 0., 0., 0., 0., 0., 0., 0., 0., 0.,\n",
       "       0., 0., 0., 0., 0., 0., 0., 0., 0., 0., 0., 0., 0., 0., 0., 0., 0.,\n",
       "       0., 0., 0., 0., 0., 0., 0., 0., 0., 0., 0., 0., 0., 0., 0., 0., 0.,\n",
       "       0., 0., 0., 0., 0., 0., 0., 0., 0., 0., 0., 0., 0., 0., 0., 0., 0.,\n",
       "       0., 0., 0., 0., 0., 0., 0., 0., 0., 0., 0., 0., 0., 0., 0., 0., 0.,\n",
       "       0., 0., 0., 0., 0., 0., 0., 0., 0., 0., 0., 0., 0., 0., 0., 0., 0.,\n",
       "       0., 0., 0., 0., 0., 0., 0., 0., 0., 0., 0., 0., 0., 0., 0., 0., 0.,\n",
       "       0., 0., 0., 0., 0., 0., 0., 0., 0., 0., 0., 0., 0., 0., 0., 0., 0.,\n",
       "       0., 0., 0., 0., 0., 0., 0.])"
      ]
     },
     "execution_count": 269,
     "metadata": {},
     "output_type": "execute_result"
    }
   ],
   "source": [
    "actions_tensor[200]"
   ]
  },
  {
   "cell_type": "code",
   "execution_count": 270,
   "metadata": {},
   "outputs": [
    {
     "data": {
      "text/plain": [
       "{'has_impact': True,\n",
       " 'injection': {'changed': False, 'count': 0, 'impacted': []},\n",
       " 'force_line': {'changed': False,\n",
       "  'reconnections': {'count': 0, 'powerlines': []},\n",
       "  'disconnections': {'count': 0, 'powerlines': []}},\n",
       " 'switch_line': {'changed': False, 'count': 0, 'powerlines': []},\n",
       " 'topology': {'changed': True,\n",
       "  'bus_switch': [],\n",
       "  'assigned_bus': [{'bus': 2,\n",
       "    'object_type': 'line (extremity)',\n",
       "    'object_id': 1,\n",
       "    'substation': 4},\n",
       "   {'bus': 1,\n",
       "    'object_type': 'line (extremity)',\n",
       "    'object_id': 4,\n",
       "    'substation': 4},\n",
       "   {'bus': 1,\n",
       "    'object_type': 'line (extremity)',\n",
       "    'object_id': 6,\n",
       "    'substation': 4},\n",
       "   {'bus': 2,\n",
       "    'object_type': 'line (origin)',\n",
       "    'object_id': 17,\n",
       "    'substation': 4},\n",
       "   {'bus': 2, 'object_type': 'load', 'object_id': 3, 'substation': 4}],\n",
       "  'disconnect_bus': []},\n",
       " 'redispatch': {'changed': False, 'generators': []}}"
      ]
     },
     "execution_count": 270,
     "metadata": {},
     "output_type": "execute_result"
    }
   ],
   "source": [
    "action_space.all_actions[200].impact_on_objects()"
   ]
  },
  {
   "cell_type": "code",
   "execution_count": 252,
   "metadata": {},
   "outputs": [
    {
     "data": {
      "text/plain": [
       "array([-15.  , -11.25,  -7.5 ,  -3.75,   0.  ,   3.75,   7.5 ,  11.25,\n",
       "        15.  ])"
      ]
     },
     "execution_count": 252,
     "metadata": {},
     "output_type": "execute_result"
    }
   ],
   "source": [
    "np.linspace(-env.gen_max_ramp_down[5], env.gen_max_ramp_up[5], 9)"
   ]
  },
  {
   "cell_type": "code",
   "execution_count": 272,
   "metadata": {},
   "outputs": [
    {
     "data": {
      "text/plain": [
       "21"
      ]
     },
     "execution_count": 272,
     "metadata": {},
     "output_type": "execute_result"
    }
   ],
   "source": [
    "env.line_ex_pos_topo_vect[6]"
   ]
  },
  {
   "cell_type": "code",
   "execution_count": null,
   "metadata": {},
   "outputs": [],
   "source": []
  }
 ],
 "metadata": {
  "kernelspec": {
   "display_name": "Python 3",
   "language": "python",
   "name": "python3"
  },
  "language_info": {
   "codemirror_mode": {
    "name": "ipython",
    "version": 3
   },
   "file_extension": ".py",
   "mimetype": "text/x-python",
   "name": "python",
   "nbconvert_exporter": "python",
   "pygments_lexer": "ipython3",
   "version": "3.6.9"
  }
 },
 "nbformat": 4,
 "nbformat_minor": 4
}
