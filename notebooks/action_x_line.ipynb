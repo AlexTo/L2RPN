{
 "cells": [
  {
   "cell_type": "code",
   "execution_count": 2,
   "metadata": {},
   "outputs": [],
   "source": [
    "import grid2op\n",
    "import numpy as np\n",
    "import torch\n",
    "from grid2op.PlotGrid import PlotMatplot\n",
    "from grid2op.Converter import IdToAct"
   ]
  },
  {
   "cell_type": "code",
   "execution_count": 3,
   "metadata": {},
   "outputs": [],
   "source": [
    "env = grid2op.make(\"l2rpn_neurips_2020_track2_small\")"
   ]
  },
  {
   "cell_type": "code",
   "execution_count": 5,
   "metadata": {},
   "outputs": [],
   "source": [
    "action_space = IdToAct(env.action_space)\n",
    "action_space.init_converter(all_actions='../data/l2rpn_neurips_2020_track2_small_action_space.npy')"
   ]
  },
  {
   "cell_type": "code",
   "execution_count": 6,
   "metadata": {},
   "outputs": [
    {
     "data": {
      "text/plain": [
       "73108"
      ]
     },
     "execution_count": 6,
     "metadata": {},
     "output_type": "execute_result"
    }
   ],
   "source": [
    "len(action_space.all_actions)"
   ]
  },
  {
   "cell_type": "code",
   "execution_count": 10,
   "metadata": {},
   "outputs": [],
   "source": [
    "act = action_space.all_actions[1000]\n",
    "impacts = act.impact_on_objects()"
   ]
  },
  {
   "cell_type": "code",
   "execution_count": 11,
   "metadata": {},
   "outputs": [
    {
     "data": {
      "text/plain": [
       "{'has_impact': True,\n",
       " 'injection': {'changed': False, 'count': 0, 'impacted': []},\n",
       " 'force_line': {'changed': False,\n",
       "  'reconnections': {'count': 0, 'powerlines': []},\n",
       "  'disconnections': {'count': 0, 'powerlines': []}},\n",
       " 'switch_line': {'changed': False, 'count': 0, 'powerlines': []},\n",
       " 'topology': {'changed': True,\n",
       "  'bus_switch': [],\n",
       "  'assigned_bus': [{'bus': 2,\n",
       "    'object_type': 'line (extremity)',\n",
       "    'object_id': 2,\n",
       "    'substation': 11},\n",
       "   {'bus': 1,\n",
       "    'object_type': 'line (extremity)',\n",
       "    'object_id': 13,\n",
       "    'substation': 11},\n",
       "   {'bus': 2,\n",
       "    'object_type': 'line (extremity)',\n",
       "    'object_id': 24,\n",
       "    'substation': 11},\n",
       "   {'bus': 2,\n",
       "    'object_type': 'line (extremity)',\n",
       "    'object_id': 35,\n",
       "    'substation': 11},\n",
       "   {'bus': 2,\n",
       "    'object_type': 'line (origin)',\n",
       "    'object_id': 57,\n",
       "    'substation': 11},\n",
       "   {'bus': 1,\n",
       "    'object_type': 'line (origin)',\n",
       "    'object_id': 80,\n",
       "    'substation': 11},\n",
       "   {'bus': 1,\n",
       "    'object_type': 'line (origin)',\n",
       "    'object_id': 83,\n",
       "    'substation': 11},\n",
       "   {'bus': 1, 'object_type': 'generator', 'object_id': 6, 'substation': 11},\n",
       "   {'bus': 2, 'object_type': 'load', 'object_id': 8, 'substation': 11}],\n",
       "  'disconnect_bus': []},\n",
       " 'redispatch': {'changed': False, 'generators': []}}"
      ]
     },
     "execution_count": 11,
     "metadata": {},
     "output_type": "execute_result"
    }
   ],
   "source": [
    "impacts"
   ]
  },
  {
   "cell_type": "code",
   "execution_count": 13,
   "metadata": {},
   "outputs": [],
   "source": [
    "action_line_matrix = np.zeros((len(action_space.all_actions), env.n_line))"
   ]
  },
  {
   "cell_type": "code",
   "execution_count": 15,
   "metadata": {},
   "outputs": [],
   "source": [
    "for i, a in enumerate(action_space.all_actions):\n",
    "    impacts = a.impact_on_objects()\n",
    "    if impacts['force_line']['changed']:\n",
    "        reconn_lines = impacts['force_line']['reconnections']['powerlines']\n",
    "        if len(reconn_lines) > 0:\n",
    "            action_line_matrix[i, reconn_lines] = 1\n",
    "    if impacts['topology']['changed']:\n",
    "        set_bus_lines = [obj['object_id'] for obj in impacts['topology']['assigned_bus'] if obj['object_type'].startswith('line')]\n",
    "        if len(set_bus_lines) > 0:\n",
    "            action_line_matrix[i, set_bus_lines] = 1"
   ]
  },
  {
   "cell_type": "code",
   "execution_count": 16,
   "metadata": {},
   "outputs": [],
   "source": [
    "np.save('../data/l2rpn_neurips_2020_track2_small_action_x_line.numpy', action_line_matrix)"
   ]
  },
  {
   "cell_type": "code",
   "execution_count": 18,
   "metadata": {},
   "outputs": [
    {
     "data": {
      "text/plain": [
       "(array([ 2, 13, 24, 35, 57, 80, 83]),)"
      ]
     },
     "execution_count": 18,
     "metadata": {},
     "output_type": "execute_result"
    }
   ],
   "source": [
    "np.where(action_line_matrix[1000] == 1)"
   ]
  },
  {
   "cell_type": "code",
   "execution_count": 19,
   "metadata": {},
   "outputs": [
    {
     "data": {
      "text/plain": [
       "(73108, 186)"
      ]
     },
     "execution_count": 19,
     "metadata": {},
     "output_type": "execute_result"
    }
   ],
   "source": [
    "action_line_matrix.shape"
   ]
  },
  {
   "cell_type": "code",
   "execution_count": null,
   "metadata": {},
   "outputs": [],
   "source": []
  }
 ],
 "metadata": {
  "kernelspec": {
   "display_name": "Python 3",
   "language": "python",
   "name": "python3"
  },
  "language_info": {
   "codemirror_mode": {
    "name": "ipython",
    "version": 3
   },
   "file_extension": ".py",
   "mimetype": "text/x-python",
   "name": "python",
   "nbconvert_exporter": "python",
   "pygments_lexer": "ipython3",
   "version": "3.6.9"
  }
 },
 "nbformat": 4,
 "nbformat_minor": 4
}
